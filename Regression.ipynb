{
  "nbformat": 4,
  "nbformat_minor": 0,
  "metadata": {
    "colab": {
      "name": "Regression.ipynb",
      "provenance": [],
      "collapsed_sections": []
    },
    "kernelspec": {
      "name": "python3",
      "display_name": "Python 3"
    }
  },
  "cells": [
    {
      "cell_type": "code",
      "metadata": {
        "id": "hUcW-YMGINGF"
      },
      "source": [
        "#Regression>>>predict the output of a continuous value\r\n",
        "#Dataset>>>classic Auto MPG \r\n",
        "!pip install tensorflow --upgrade\r\n",
        "\r\n",
        "# Use seaborn for pairplot\r\n",
        "!pip install seaborn\r\n",
        "\r\n",
        "# Use some functions from tensorflow_docs\r\n",
        "!pip install git+https://github.com/tensorflow/docs\r\n",
        "\r\n",
        "from __future__ import absolute_import, division, print_function, unicode_literals\r\n",
        "import pathlib\r\n",
        "import matplotlib.pyplot as plt\r\n",
        "import numpy as np\r\n",
        "import pandas as pd\r\n",
        "import seaborn as sns\r\n",
        "\r\n",
        "try:\r\n",
        "  # %tensorflow_version only exists in Colab.\r\n",
        "  %tensorflow_version 2.x\r\n",
        "except Exception:\r\n",
        "  pass\r\n",
        "import tensorflow as tf\r\n",
        "from tensorflow import keras\r\n",
        "from tensorflow.keras import layers\r\n",
        "import tensorflow_docs as tfdocs\r\n",
        "import tensorflow_docs.plots\r\n",
        "import tensorflow_docs.modeling\r\n",
        "\r\n",
        "print(tf.__version__)\r\n",
        "name_db = \"auto-mpg.data\"\r\n",
        "address_db = \"http://archive.ics.uci.edu/ml/machine-learning-databases/auto-mpg/auto-mpg.data\"\r\n",
        "\r\n",
        "#Downloading the dataset\r\n",
        "dataset_path = keras.utils.get_file(name_db, address_db)\r\n",
        "dataset_path\r\n",
        "\r\n",
        "\r\n",
        "\r\n",
        "#Importing the data using Pandas library\r\n",
        "column_names = ['MPG','Cylinders','Displacement','Horsepower','Weight', 'Acceleration', 'Model Year', 'Origin']\r\n",
        "raw_dataset = pd.read_csv(dataset_path, names=column_names, na_values = \"?\", comment='\\t', sep=\" \", skipinitialspace=True)\r\n",
        "dataset = raw_dataset.copy()\r\n",
        "dataset.tail()\r\n",
        "\r\n"
      ],
      "execution_count": null,
      "outputs": []
    }
  ]
}