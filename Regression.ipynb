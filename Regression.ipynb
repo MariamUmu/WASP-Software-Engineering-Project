{
  "nbformat": 4,
  "nbformat_minor": 0,
  "metadata": {
HEAD
    "kernelspec": {
      "display_name": "Python 3",
      "language": "python",
      "name": "python3"
    },
    "language_info": {
      "codemirror_mode": {
        "name": "ipython",
        "version": 3
      },
      "file_extension": ".py",
      "mimetype": "text/x-python",
      "name": "python",
      "nbconvert_exporter": "python",
      "pygments_lexer": "ipython3",
      "version": "3.8.5"
    },
    "colab": {
      "name": "Regression.ipynb",
      "provenance": [],
      "collapsed_sections": [],
      "include_colab_link": true

    "colab": {
      "name": "Regression.ipynb",
      "provenance": [],
      "collapsed_sections": []
    },
    "kernelspec": {
      "name": "python3",
      "display_name": "Python 3"
origin/bozorgpanah-patch-1-1
    }
  },
  "cells": [
    {
HEAD
      "cell_type": "markdown",
      "metadata": {
        "id": "view-in-github",
        "colab_type": "text"
      },
      "source": [
        "<a href=\"https://colab.research.google.com/github/bozorgpanah/WASP-Software-Engineering-Project/blob/bozorgpanah-patch-1/Regression.ipynb\" target=\"_parent\"><img src=\"https://colab.research.google.com/assets/colab-badge.svg\" alt=\"Open In Colab\"/></a>"
      ]
    },
    {
      "cell_type": "code",
      "metadata": {
        "id": "4-Lyz7LtEUsQ"
      },
      "source": [
        "#Regression>>>predict the output of a continuous value\n",
        "#Dataset>>>classic Auto MPG \n",
        "!pip install tensorflow --upgrade\n",
        "\n",
        "# Use seaborn for pairplot\n",
        "!pip install seaborn\n",
        "\n",
        "# Use some functions from tensorflow_docs\n",
        "!pip install git+https://github.com/tensorflow/docs\n",
        "\n",
        "from __future__ import absolute_import, division, print_function, unicode_literals\n",
        "import pathlib\n",
        "import matplotlib.pyplot as plt\n",
        "import numpy as np\n",
        "import pandas as pd\n",
        "import seaborn as sns\n",
        "\n",
        "try:\n",
        "  # %tensorflow_version only exists in Colab.\n",
        "  %tensorflow_version 2.x\n",
        "except Exception:\n",
        "  pass\n",
        "import tensorflow as tf\n",
        "from tensorflow import keras\n",
        "from tensorflow.keras import layers\n",
        "import tensorflow_docs as tfdocs\n",
        "import tensorflow_docs.plots\n",
        "import tensorflow_docs.modeling\n",
        "\n",
        "print(tf.__version__)\n",
        "name_db = \"auto-mpg.data\"\n",
        "address_db = \"http://archive.ics.uci.edu/ml/machine-learning-databases/auto-mpg/auto-mpg.data\"\n",
        "column_names = ['MPG','Cylinders','Displacement','Horsepower','Weight', 'Acceleration', 'Model Year', 'Origin']\n",
        "EPOCHS = 1000\n",
        "\n",
        "\n",
        "\n",
        "#--downloading_dataset(name_db, address_db)\n",
        "\n",
        "#Importing the data using Pandas library\n",
        "def preprocessing_dataset(columnNames):\n",
        " raw_dataset = pd.read_csv(dataset_path, names=columnNames, na_values = \"?\", comment='\\t', sep=\" \", skipinitialspace=True)\n",
        " dataset = raw_dataset.copy() \n",
        " dataset.tail()\n",
        " #Cleanin the data\n",
        " dataset.isna().sum()\n",
        " dataset = dataset.dropna()\n",
        " dataset['Origin'] = dataset['Origin'].map({1: 'USA', 2: 'Europe', 3: 'Japan'})\n",
        " dataset = pd.get_dummies(dataset, prefix='', prefix_sep='') \n",
        " return dataset.tail()\n",
        "\n",
        "#Normalizing the data\n",
        "def norm(x): \n",
        "  return (x - train_stats['mean']) / train_stats['std']\n",
        "\n",
        "#--preprocessing_dataset(columnNames)\n",
        "#--split_dataset()\n",
        "#--normed_train_data = norm(train_dataset) \n",
        "#--normed_test_data = norm(test_dataset)\n",
        "#--build_model()\n",
        "#--inspect_model()\n",
        "#--train_model(EPOCHS)\n",
        "#--prediction()\n",
        "\n",
        "\n"

      "cell_type": "code",
      "metadata": {
        "id": "hUcW-YMGINGF"
      },
      "source": [
        "#Regression>>>predict the output of a continuous value\r\n",
        "#Dataset>>>classic Auto MPG \r\n",
        "!pip install tensorflow --upgrade\r\n",
        "\r\n",
        "# Use seaborn for pairplot\r\n",
        "!pip install seaborn\r\n",
        "\r\n",
        "# Use some functions from tensorflow_docs\r\n",
        "!pip install git+https://github.com/tensorflow/docs\r\n",
        "\r\n",
        "from __future__ import absolute_import, division, print_function, unicode_literals\r\n",
        "import pathlib\r\n",
        "import matplotlib.pyplot as plt\r\n",
        "import numpy as np\r\n",
        "import pandas as pd\r\n",
        "import seaborn as sns\r\n",
        "\r\n",
        "try:\r\n",
        "  # %tensorflow_version only exists in Colab.\r\n",
        "  %tensorflow_version 2.x\r\n",
        "except Exception:\r\n",
        "  pass\r\n",
        "import tensorflow as tf\r\n",
        "from tensorflow import keras\r\n",
        "from tensorflow.keras import layers\r\n",
        "import tensorflow_docs as tfdocs\r\n",
        "import tensorflow_docs.plots\r\n",
        "import tensorflow_docs.modeling\r\n",
        "\r\n",
        "print(tf.__version__)\r\n",
        "name_db = \"auto-mpg.data\"\r\n",
        "address_db = \"http://archive.ics.uci.edu/ml/machine-learning-databases/auto-mpg/auto-mpg.data\"\r\n",
        "\r\n",
        "#Downloading the dataset\r\n",
        "dataset_path = keras.utils.get_file(name_db, address_db)\r\n",
        "dataset_path\r\n",
        "\r\n",
        "\r\n",
        "\r\n",
        "#Importing the data using Pandas library\r\n",
        "column_names = ['MPG','Cylinders','Displacement','Horsepower','Weight', 'Acceleration', 'Model Year', 'Origin']\r\n",
        "raw_dataset = pd.read_csv(dataset_path, names=column_names, na_values = \"?\", comment='\\t', sep=\" \", skipinitialspace=True)\r\n",
        "dataset = raw_dataset.copy()\r\n",
        "dataset.tail()\r\n",
        "\r\n"
origin/bozorgpanah-patch-1-1
      ],
      "execution_count": null,
      "outputs": []
    }
  ]
}