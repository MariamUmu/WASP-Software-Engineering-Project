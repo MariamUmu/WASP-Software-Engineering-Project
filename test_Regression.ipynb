import pytest
import Regression

@ pytest.mark.one
 def test_download_dataset(name,address):
    name=  "auto-mpg.data"
    address= "http://archive.ics.uci.edu/ml/machine-learning-databases/auto-mpg/auto-mpg.data"
    assert len(Regression.downloading_dataset(name,address)) != 0

@ pytest.mark.two
