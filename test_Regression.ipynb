# to run ipytest in jupyter notebook run the following commands
# pip install -U ipytest
#import ipytest
#ipytest.autoconfig()
#run_pytest[clean]  this command to be written in the cell contains the test.
@ pytest.mark.one
 def test_download_dataset():
    name=  "auto-mpg.data"
    address= "http://archive.ics.uci.edu/ml/machine-learning-databases/auto-mpg/auto-mpg.data"
    assert len(Regression.downloading_dataset(name,address)) != 0

@ pytest.mark.two
